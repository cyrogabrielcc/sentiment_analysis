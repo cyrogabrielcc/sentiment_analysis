{
 "cells": [
  {
   "cell_type": "markdown",
   "id": "f563c75e",
   "metadata": {
    "id": "f563c75e"
   },
   "source": [
    "#### Análise de Sentimentos"
   ]
  },
  {
   "cell_type": "code",
   "execution_count": 2,
   "id": "74bbe38e",
   "metadata": {
    "colab": {
     "base_uri": "https://localhost:8080/"
    },
    "executionInfo": {
     "elapsed": 26856,
     "status": "ok",
     "timestamp": 1643551516256,
     "user": {
      "displayName": "Cyro Corrêa",
      "photoUrl": "https://lh3.googleusercontent.com/a-/AOh14GiIDJSdtN0Lzp8t9TrMNbB1RXTC0vzfKqmG8zLbXuM=s64",
      "userId": "08166252903256794495"
     },
     "user_tz": 180
    },
    "id": "74bbe38e",
    "outputId": "9fd6a69a-3cd3-4714-d34f-b38e6cad6be2"
   },
   "outputs": [],
   "source": [
    "import numpy as np\n",
    "import pandas as pd\n",
    "import re\n",
    "from nltk.corpus import stopwords\n",
    "from nltk.tokenize import word_tokenize\n",
    "from nltk.stem import SnowballStemmer\n",
    "from sklearn.feature_extraction.text import CountVectorizer\n",
    "from sklearn.model_selection import train_test_split\n",
    "from sklearn.naive_bayes import GaussianNB,MultinomialNB,BernoulliNB\n",
    "from sklearn.metrics import accuracy_score\n",
    "import pickle\n",
    "\n",
    "#from google.colab import drive\n",
    "#drive.mount('/content/drive')"
   ]
  },
  {
   "cell_type": "code",
   "execution_count": 3,
   "id": "0e613dda",
   "metadata": {
    "colab": {
     "base_uri": "https://localhost:8080/",
     "height": 206
    },
    "executionInfo": {
     "elapsed": 2388,
     "status": "ok",
     "timestamp": 1643551519040,
     "user": {
      "displayName": "Cyro Corrêa",
      "photoUrl": "https://lh3.googleusercontent.com/a-/AOh14GiIDJSdtN0Lzp8t9TrMNbB1RXTC0vzfKqmG8zLbXuM=s64",
      "userId": "08166252903256794495"
     },
     "user_tz": 180
    },
    "id": "0e613dda",
    "outputId": "1c9d193b-dd2b-4b31-f80c-0544d307c268"
   },
   "outputs": [
    {
     "data": {
      "text/html": [
       "<div>\n",
       "<style scoped>\n",
       "    .dataframe tbody tr th:only-of-type {\n",
       "        vertical-align: middle;\n",
       "    }\n",
       "\n",
       "    .dataframe tbody tr th {\n",
       "        vertical-align: top;\n",
       "    }\n",
       "\n",
       "    .dataframe thead th {\n",
       "        text-align: right;\n",
       "    }\n",
       "</style>\n",
       "<table border=\"1\" class=\"dataframe\">\n",
       "  <thead>\n",
       "    <tr style=\"text-align: right;\">\n",
       "      <th></th>\n",
       "      <th>review</th>\n",
       "      <th>sentiment</th>\n",
       "    </tr>\n",
       "  </thead>\n",
       "  <tbody>\n",
       "    <tr>\n",
       "      <th>0</th>\n",
       "      <td>One of the other reviewers has mentioned that ...</td>\n",
       "      <td>positive</td>\n",
       "    </tr>\n",
       "    <tr>\n",
       "      <th>1</th>\n",
       "      <td>A wonderful little production. &lt;br /&gt;&lt;br /&gt;The...</td>\n",
       "      <td>positive</td>\n",
       "    </tr>\n",
       "    <tr>\n",
       "      <th>2</th>\n",
       "      <td>I thought this was a wonderful way to spend ti...</td>\n",
       "      <td>positive</td>\n",
       "    </tr>\n",
       "    <tr>\n",
       "      <th>3</th>\n",
       "      <td>Basically there's a family where a little boy ...</td>\n",
       "      <td>negative</td>\n",
       "    </tr>\n",
       "    <tr>\n",
       "      <th>4</th>\n",
       "      <td>Petter Mattei's \"Love in the Time of Money\" is...</td>\n",
       "      <td>positive</td>\n",
       "    </tr>\n",
       "  </tbody>\n",
       "</table>\n",
       "</div>"
      ],
      "text/plain": [
       "                                              review sentiment\n",
       "0  One of the other reviewers has mentioned that ...  positive\n",
       "1  A wonderful little production. <br /><br />The...  positive\n",
       "2  I thought this was a wonderful way to spend ti...  positive\n",
       "3  Basically there's a family where a little boy ...  negative\n",
       "4  Petter Mattei's \"Love in the Time of Money\" is...  positive"
      ]
     },
     "execution_count": 3,
     "metadata": {},
     "output_type": "execute_result"
    }
   ],
   "source": [
    "data = pd.read_csv('IMDB-Dataset.csv')\n",
    "data.shape\n",
    "data.head()"
   ]
  },
  {
   "cell_type": "code",
   "execution_count": 4,
   "id": "2f594392",
   "metadata": {
    "colab": {
     "base_uri": "https://localhost:8080/"
    },
    "executionInfo": {
     "elapsed": 29,
     "status": "ok",
     "timestamp": 1643551519042,
     "user": {
      "displayName": "Cyro Corrêa",
      "photoUrl": "https://lh3.googleusercontent.com/a-/AOh14GiIDJSdtN0Lzp8t9TrMNbB1RXTC0vzfKqmG8zLbXuM=s64",
      "userId": "08166252903256794495"
     },
     "user_tz": 180
    },
    "id": "2f594392",
    "outputId": "79428222-4ba2-4adc-d952-7a220008cea9"
   },
   "outputs": [
    {
     "name": "stdout",
     "output_type": "stream",
     "text": [
      "<class 'pandas.core.frame.DataFrame'>\n",
      "RangeIndex: 50000 entries, 0 to 49999\n",
      "Data columns (total 2 columns):\n",
      " #   Column     Non-Null Count  Dtype \n",
      "---  ------     --------------  ----- \n",
      " 0   review     50000 non-null  object\n",
      " 1   sentiment  50000 non-null  object\n",
      "dtypes: object(2)\n",
      "memory usage: 781.4+ KB\n"
     ]
    }
   ],
   "source": [
    "data.info()"
   ]
  },
  {
   "cell_type": "code",
   "execution_count": 5,
   "id": "d1d33d8c",
   "metadata": {
    "colab": {
     "base_uri": "https://localhost:8080/",
     "height": 182
    },
    "executionInfo": {
     "elapsed": 23,
     "status": "ok",
     "timestamp": 1643551519043,
     "user": {
      "displayName": "Cyro Corrêa",
      "photoUrl": "https://lh3.googleusercontent.com/a-/AOh14GiIDJSdtN0Lzp8t9TrMNbB1RXTC0vzfKqmG8zLbXuM=s64",
      "userId": "08166252903256794495"
     },
     "user_tz": 180
    },
    "id": "d1d33d8c",
    "outputId": "8cb421d6-05a6-401f-857a-d02365d29f87"
   },
   "outputs": [],
   "source": [
    "#data.review[0]\n",
    "#data.sentiment[1]"
   ]
  },
  {
   "cell_type": "code",
   "execution_count": 6,
   "id": "18c3f7ef",
   "metadata": {
    "colab": {
     "base_uri": "https://localhost:8080/"
    },
    "executionInfo": {
     "elapsed": 21,
     "status": "ok",
     "timestamp": 1643551519043,
     "user": {
      "displayName": "Cyro Corrêa",
      "photoUrl": "https://lh3.googleusercontent.com/a-/AOh14GiIDJSdtN0Lzp8t9TrMNbB1RXTC0vzfKqmG8zLbXuM=s64",
      "userId": "08166252903256794495"
     },
     "user_tz": 180
    },
    "id": "18c3f7ef",
    "outputId": "1c6ce376-e534-455c-ca03-48194dc1b7a5"
   },
   "outputs": [
    {
     "data": {
      "text/plain": [
       "positive    25000\n",
       "negative    25000\n",
       "Name: sentiment, dtype: int64"
      ]
     },
     "execution_count": 6,
     "metadata": {},
     "output_type": "execute_result"
    }
   ],
   "source": [
    "data.sentiment.value_counts()"
   ]
  },
  {
   "cell_type": "markdown",
   "id": "a86b5b7a",
   "metadata": {
    "id": "a86b5b7a"
   },
   "source": [
    "### Removendo as tags html"
   ]
  },
  {
   "cell_type": "markdown",
   "id": "eJTjIexkpC2g",
   "metadata": {
    "id": "eJTjIexkpC2g"
   },
   "source": [
    "#### regex rule: '<.*?>'"
   ]
  },
  {
   "cell_type": "code",
   "execution_count": 7,
   "id": "28dba0e6",
   "metadata": {
    "colab": {
     "base_uri": "https://localhost:8080/",
     "height": 182
    },
    "executionInfo": {
     "elapsed": 20,
     "status": "ok",
     "timestamp": 1643551519044,
     "user": {
      "displayName": "Cyro Corrêa",
      "photoUrl": "https://lh3.googleusercontent.com/a-/AOh14GiIDJSdtN0Lzp8t9TrMNbB1RXTC0vzfKqmG8zLbXuM=s64",
      "userId": "08166252903256794495"
     },
     "user_tz": 180
    },
    "id": "28dba0e6",
    "outputId": "8f7374be-74e7-4fe3-d732-7dce39eb8afe"
   },
   "outputs": [],
   "source": [
    "# A função recebe o texto\n",
    "# compilando o regex\n",
    "# Limpando e aplicando espaço nos trechos\n",
    "\n",
    "def clean(txt):\n",
    "    cleaned = re.compile(r'<.*?>')\n",
    "    return re.sub(cleaned, '', txt)\n",
    "\n",
    "#exemplo de limpeza:\n",
    "data.review = data.review.apply(clean)\n",
    "\n",
    "#mostrando\n",
    "#data.review[0]"
   ]
  },
  {
   "cell_type": "code",
   "execution_count": 8,
   "id": "0e0c5faf",
   "metadata": {
    "colab": {
     "base_uri": "https://localhost:8080/",
     "height": 182
    },
    "executionInfo": {
     "elapsed": 10331,
     "status": "ok",
     "timestamp": 1643551529355,
     "user": {
      "displayName": "Cyro Corrêa",
      "photoUrl": "https://lh3.googleusercontent.com/a-/AOh14GiIDJSdtN0Lzp8t9TrMNbB1RXTC0vzfKqmG8zLbXuM=s64",
      "userId": "08166252903256794495"
     },
     "user_tz": 180
    },
    "id": "0e0c5faf",
    "outputId": "10b52d69-c822-4dfc-c71d-fe8aab843f0d"
   },
   "outputs": [],
   "source": [
    "#detectando caracteres\n",
    "def is_special(txt):\n",
    "    rem = ''\n",
    "    for i in txt:\n",
    "        #se for alfanumérico continua\n",
    "        if i.isalnum():\n",
    "            rem = rem + i\n",
    "        #senão, add o espaço\n",
    "        else:\n",
    "            rem = rem + ' '\n",
    "    return rem\n",
    "\n",
    "#aplicando a função\n",
    "data.review = data.review.apply(is_special)\n",
    "\n",
    "#exemplificando\n",
    "#data.review[0]"
   ]
  },
  {
   "cell_type": "code",
   "execution_count": 9,
   "id": "9beedb0e",
   "metadata": {
    "colab": {
     "base_uri": "https://localhost:8080/",
     "height": 182
    },
    "executionInfo": {
     "elapsed": 10,
     "status": "ok",
     "timestamp": 1643551529355,
     "user": {
      "displayName": "Cyro Corrêa",
      "photoUrl": "https://lh3.googleusercontent.com/a-/AOh14GiIDJSdtN0Lzp8t9TrMNbB1RXTC0vzfKqmG8zLbXuM=s64",
      "userId": "08166252903256794495"
     },
     "user_tz": 180
    },
    "id": "9beedb0e",
    "outputId": "ab911c25-40a4-47e1-bce4-4db0e489c56b"
   },
   "outputs": [
    {
     "data": {
      "text/plain": [
       "'one of the other reviewers has mentioned that after watching just 1 oz episode you ll be hooked  they are right  as this is exactly what happened with me the first thing that struck me about oz was its brutality and unflinching scenes of violence  which set in right from the word go  trust me  this is not a show for the faint hearted or timid  this show pulls no punches with regards to drugs  sex or violence  its is hardcore  in the classic use of the word it is called oz as that is the nickname given to the oswald maximum security state penitentary  it focuses mainly on emerald city  an experimental section of the prison where all the cells have glass fronts and face inwards  so privacy is not high on the agenda  em city is home to many  aryans  muslims  gangstas  latinos  christians  italians  irish and more    so scuffles  death stares  dodgy dealings and shady agreements are never far away i would say the main appeal of the show is due to the fact that it goes where other shows wouldn t dare  forget pretty pictures painted for mainstream audiences  forget charm  forget romance   oz doesn t mess around  the first episode i ever saw struck me as so nasty it was surreal  i couldn t say i was ready for it  but as i watched more  i developed a taste for oz  and got accustomed to the high levels of graphic violence  not just violence  but injustice  crooked guards who ll be sold out for a nickel  inmates who ll kill on order and get away with it  well mannered  middle class inmates being turned into prison bitches due to their lack of street skills or prison experience  watching oz  you may become comfortable with what is uncomfortable viewing    thats if you can get in touch with your darker side '"
      ]
     },
     "execution_count": 9,
     "metadata": {},
     "output_type": "execute_result"
    }
   ],
   "source": [
    "# Tudo em minúsculo\n",
    "def lower(txt):\n",
    "    return txt.lower()\n",
    "\n",
    "data.review = data.review.apply(lower)\n",
    "data.review[0]"
   ]
  },
  {
   "cell_type": "code",
   "execution_count": 10,
   "id": "5e7f0855",
   "metadata": {
    "colab": {
     "base_uri": "https://localhost:8080/"
    },
    "executionInfo": {
     "elapsed": 54534,
     "status": "ok",
     "timestamp": 1643551583881,
     "user": {
      "displayName": "Cyro Corrêa",
      "photoUrl": "https://lh3.googleusercontent.com/a-/AOh14GiIDJSdtN0Lzp8t9TrMNbB1RXTC0vzfKqmG8zLbXuM=s64",
      "userId": "08166252903256794495"
     },
     "user_tz": 180
    },
    "id": "5e7f0855",
    "outputId": "5aa82434-9a6f-441b-fc46-4de340c00e3c"
   },
   "outputs": [
    {
     "name": "stderr",
     "output_type": "stream",
     "text": [
      "[nltk_data] Downloading package stopwords to\n",
      "[nltk_data]     C:\\Users\\cyrog\\AppData\\Roaming\\nltk_data...\n",
      "[nltk_data]   Package stopwords is already up-to-date!\n",
      "[nltk_data] Downloading package punkt to\n",
      "[nltk_data]     C:\\Users\\cyrog\\AppData\\Roaming\\nltk_data...\n",
      "[nltk_data]   Package punkt is already up-to-date!\n"
     ]
    }
   ],
   "source": [
    "import nltk\n",
    "nltk.download('stopwords')\n",
    "nltk.download('punkt')\n",
    "\n",
    "def rem_stopwords(txt):\n",
    "    stop_words = set(stopwords.words('english'))\n",
    "    words = word_tokenize(txt)\n",
    "    #se a palavra não esta entre aquelas sem valor, ela será retornada\n",
    "    return [w for w in words if w not in stop_words]\n",
    "\n",
    "data.review = data.review.apply(rem_stopwords)\n",
    "#data.review[0]"
   ]
  },
  {
   "cell_type": "code",
   "execution_count": 11,
   "id": "7b7e2270",
   "metadata": {
    "colab": {
     "base_uri": "https://localhost:8080/",
     "height": 182
    },
    "executionInfo": {
     "elapsed": 99199,
     "status": "ok",
     "timestamp": 1643551683072,
     "user": {
      "displayName": "Cyro Corrêa",
      "photoUrl": "https://lh3.googleusercontent.com/a-/AOh14GiIDJSdtN0Lzp8t9TrMNbB1RXTC0vzfKqmG8zLbXuM=s64",
      "userId": "08166252903256794495"
     },
     "user_tz": 180
    },
    "id": "7b7e2270",
    "outputId": "25219995-ff79-44ce-f4d0-cf6ea3e22379"
   },
   "outputs": [
    {
     "data": {
      "text/plain": [
       "'one review mention watch 1 oz episod hook right exact happen first thing struck oz brutal unflinch scene violenc set right word go trust show faint heart timid show pull punch regard drug sex violenc hardcor classic use word call oz nicknam given oswald maximum secur state penitentari focus main emerald citi experiment section prison cell glass front face inward privaci high agenda em citi home mani aryan muslim gangsta latino christian italian irish scuffl death stare dodgi deal shadi agreement never far away would say main appeal show due fact goe show dare forget pretti pictur paint mainstream audienc forget charm forget romanc oz mess around first episod ever saw struck nasti surreal say readi watch develop tast oz got accustom high level graphic violenc violenc injustic crook guard sold nickel inmat kill order get away well manner middl class inmat turn prison bitch due lack street skill prison experi watch oz may becom comfort uncomfort view that get touch darker side'"
      ]
     },
     "execution_count": 11,
     "metadata": {},
     "output_type": "execute_result"
    }
   ],
   "source": [
    "def stem_txt(txt):\n",
    "    ss = SnowballStemmer('english')\n",
    "    return \" \".join([ss.stem(w) for w in txt])\n",
    "\n",
    "data.review = data.review.apply(stem_txt)\n",
    "data.review[0]"
   ]
  },
  {
   "cell_type": "markdown",
   "id": "1YnDoWKSaLB4",
   "metadata": {
    "id": "1YnDoWKSaLB4"
   },
   "source": [
    "#### Criando o modelo\n",
    "  1. Creating BAG OF WORDS\n"
   ]
  },
  {
   "cell_type": "code",
   "execution_count": 12,
   "id": "vKVvMuQvaU7o",
   "metadata": {
    "colab": {
     "base_uri": "https://localhost:8080/"
    },
    "executionInfo": {
     "elapsed": 5619,
     "status": "ok",
     "timestamp": 1643551688686,
     "user": {
      "displayName": "Cyro Corrêa",
      "photoUrl": "https://lh3.googleusercontent.com/a-/AOh14GiIDJSdtN0Lzp8t9TrMNbB1RXTC0vzfKqmG8zLbXuM=s64",
      "userId": "08166252903256794495"
     },
     "user_tz": 180
    },
    "id": "vKVvMuQvaU7o",
    "outputId": "6ac0de36-1781-4d8d-e44f-fc9c36aa9351"
   },
   "outputs": [
    {
     "name": "stdout",
     "output_type": "stream",
     "text": [
      "X.shape =  (50000, 1000)\n",
      "Y.shape =  (50000,)\n"
     ]
    }
   ],
   "source": [
    "x = np.array(data.iloc[:0].values)\n",
    "y = np.array(data.sentiment.values)\n",
    "cv = CountVectorizer(max_features=1000)\n",
    "X = cv.fit_transform(data.review).toarray()\n",
    "print(\"X.shape = \", X.shape)\n",
    "print(\"Y.shape = \", y.shape)"
   ]
  },
  {
   "cell_type": "code",
   "execution_count": 13,
   "id": "PKQlSwbAbBTM",
   "metadata": {
    "colab": {
     "base_uri": "https://localhost:8080/"
    },
    "executionInfo": {
     "elapsed": 9,
     "status": "ok",
     "timestamp": 1643551688687,
     "user": {
      "displayName": "Cyro Corrêa",
      "photoUrl": "https://lh3.googleusercontent.com/a-/AOh14GiIDJSdtN0Lzp8t9TrMNbB1RXTC0vzfKqmG8zLbXuM=s64",
      "userId": "08166252903256794495"
     },
     "user_tz": 180
    },
    "id": "PKQlSwbAbBTM",
    "outputId": "f6c2252d-0911-461f-a5f1-e69f10b94434"
   },
   "outputs": [
    {
     "name": "stdout",
     "output_type": "stream",
     "text": [
      "Train shapes: y=(35000, 1000) | y=(35000,) \n",
      "Test shapes: y=(15000, 1000) | y=(15000,) \n"
     ]
    }
   ],
   "source": [
    "x_train,x_test,y_train, y_test= train_test_split(X, y, test_size=0.3,random_state=9)\n",
    "print(\"Train shapes: y={} | y={} \".format(x_train.shape, y_train.shape))  \n",
    "print(\"Test shapes: y={} | y={} \".format(x_test.shape, y_test.shape))  "
   ]
  },
  {
   "cell_type": "code",
   "execution_count": 14,
   "id": "qs5_2O79rVj9",
   "metadata": {
    "colab": {
     "base_uri": "https://localhost:8080/"
    },
    "executionInfo": {
     "elapsed": 2101,
     "status": "ok",
     "timestamp": 1643551690783,
     "user": {
      "displayName": "Cyro Corrêa",
      "photoUrl": "https://lh3.googleusercontent.com/a-/AOh14GiIDJSdtN0Lzp8t9TrMNbB1RXTC0vzfKqmG8zLbXuM=s64",
      "userId": "08166252903256794495"
     },
     "user_tz": 180
    },
    "id": "qs5_2O79rVj9",
    "outputId": "40d40c80-ace2-4d79-a4e9-2b7b16eb9d60"
   },
   "outputs": [
    {
     "data": {
      "text/plain": [
       "BernoulliNB()"
      ]
     },
     "execution_count": 14,
     "metadata": {},
     "output_type": "execute_result"
    }
   ],
   "source": [
    "gnb, mnb, bnb = GaussianNB(), MultinomialNB(alpha=1.0, fit_prior=True), BernoulliNB(alpha=1.0, fit_prior=True)\n",
    "gnb.fit(x_train, y_train)\n",
    "mnb.fit(x_train, y_train)\n",
    "bnb.fit(x_train, y_train)"
   ]
  },
  {
   "cell_type": "code",
   "execution_count": 15,
   "id": "12Fatv712FZp",
   "metadata": {
    "executionInfo": {
     "elapsed": 468,
     "status": "ok",
     "timestamp": 1643551691249,
     "user": {
      "displayName": "Cyro Corrêa",
      "photoUrl": "https://lh3.googleusercontent.com/a-/AOh14GiIDJSdtN0Lzp8t9TrMNbB1RXTC0vzfKqmG8zLbXuM=s64",
      "userId": "08166252903256794495"
     },
     "user_tz": 180
    },
    "id": "12Fatv712FZp"
   },
   "outputs": [],
   "source": [
    "ypg = gnb.predict(x_test)\n",
    "mpg = mnb.predict(x_test)\n",
    "bpg = bnb.predict(x_test)"
   ]
  },
  {
   "cell_type": "code",
   "execution_count": 16,
   "id": "cuhKWdNA2rZo",
   "metadata": {
    "colab": {
     "base_uri": "https://localhost:8080/"
    },
    "executionInfo": {
     "elapsed": 13,
     "status": "ok",
     "timestamp": 1643551691250,
     "user": {
      "displayName": "Cyro Corrêa",
      "photoUrl": "https://lh3.googleusercontent.com/a-/AOh14GiIDJSdtN0Lzp8t9TrMNbB1RXTC0vzfKqmG8zLbXuM=s64",
      "userId": "08166252903256794495"
     },
     "user_tz": 180
    },
    "id": "cuhKWdNA2rZo",
    "outputId": "5ff0c5e9-f216-4f2b-a137-acb0e91a42eb"
   },
   "outputs": [
    {
     "name": "stdout",
     "output_type": "stream",
     "text": [
      "Gaussian:  0.7837333333333333\n",
      "Multinomial:  0.8292\n",
      "Bernoulli:  0.8358666666666666\n"
     ]
    }
   ],
   "source": [
    "print(\"Gaussian: \", accuracy_score(y_test,ypg))\n",
    "print(\"Multinomial: \", accuracy_score(y_test,mpg))\n",
    "print(\"Bernoulli: \", accuracy_score(y_test,bpg))"
   ]
  },
  {
   "cell_type": "code",
   "execution_count": 17,
   "id": "hGDBJEUX2V83",
   "metadata": {
    "executionInfo": {
     "elapsed": 459,
     "status": "ok",
     "timestamp": 1643551777468,
     "user": {
      "displayName": "Cyro Corrêa",
      "photoUrl": "https://lh3.googleusercontent.com/a-/AOh14GiIDJSdtN0Lzp8t9TrMNbB1RXTC0vzfKqmG8zLbXuM=s64",
      "userId": "08166252903256794495"
     },
     "user_tz": 180
    },
    "id": "hGDBJEUX2V83"
   },
   "outputs": [],
   "source": [
    "pickle.dump(bnb, open('modell.pkl','wb'))"
   ]
  },
  {
   "cell_type": "markdown",
   "id": "IPb7YyftUv0_",
   "metadata": {
    "id": "IPb7YyftUv0_"
   },
   "source": [
    "# Usando a máquina para avaliar o sentimento do cliente.\n",
    "\n"
   ]
  },
  {
   "cell_type": "code",
   "execution_count": 18,
   "id": "fcZXVGlLUd1F",
   "metadata": {
    "executionInfo": {
     "elapsed": 464,
     "status": "ok",
     "timestamp": 1643553067803,
     "user": {
      "displayName": "Cyro Corrêa",
      "photoUrl": "https://lh3.googleusercontent.com/a-/AOh14GiIDJSdtN0Lzp8t9TrMNbB1RXTC0vzfKqmG8zLbXuM=s64",
      "userId": "08166252903256794495"
     },
     "user_tz": 180
    },
    "id": "fcZXVGlLUd1F"
   },
   "outputs": [],
   "source": [
    "# Dragon Evolution KKKKKK\n",
    "\n",
    "rev = \"\"\"For the love of god, if you respect the original series at all, do NOT pay to see this crap!\n",
    "Let me just start off by saying that there are no redeeming qualities to this movie at all. The multi-million dollar budget has amounted to a teen drama mixed with power rangers. The final product is insulting, to say the least.\n",
    "\n",
    "The creators of this horrible, horrible adaption should take a good long think about what they have done and why they should have just followed the source material instead of taken it for granted. Do they really think that the entire Dragonball fan-base is this stupid? Akira Toriyama probably has a noose around his neck right about now.\n",
    "\n",
    "To finish this off: The acting is atrocious, the butt-rock scattered through the soundtrack will make you want to punch the guy running the theater in the face, and the story is basically the manga's, but cut up, put into a blender, stuffed into sausage skins, and stitched back together with an American flag tied around it.\n",
    "\n",
    "If you want your Dragonball fix, just buy dvds of the show instead, skip the movie, and if you don't skip it, then at least don't pay for this thing. I heard that a sequel is already in the works, and we don't need a trilogy, that would be three of these movies too many.\"\"\""
   ]
  },
  {
   "cell_type": "code",
   "execution_count": 19,
   "id": "xveGrY0XVRq1",
   "metadata": {
    "executionInfo": {
     "elapsed": 5,
     "status": "ok",
     "timestamp": 1643553036879,
     "user": {
      "displayName": "Cyro Corrêa",
      "photoUrl": "https://lh3.googleusercontent.com/a-/AOh14GiIDJSdtN0Lzp8t9TrMNbB1RXTC0vzfKqmG8zLbXuM=s64",
      "userId": "08166252903256794495"
     },
     "user_tz": 180
    },
    "id": "xveGrY0XVRq1"
   },
   "outputs": [],
   "source": [
    "f1 = clean(rev)\n",
    "f2 = is_special(f1)\n",
    "f3 = lower(f2)\n",
    "f4 = rem_stopwords(f3)\n",
    "f5 = stem_txt(f4)"
   ]
  },
  {
   "cell_type": "code",
   "execution_count": 20,
   "id": "9zc5rWn_WvBc",
   "metadata": {
    "executionInfo": {
     "elapsed": 4,
     "status": "ok",
     "timestamp": 1643553038851,
     "user": {
      "displayName": "Cyro Corrêa",
      "photoUrl": "https://lh3.googleusercontent.com/a-/AOh14GiIDJSdtN0Lzp8t9TrMNbB1RXTC0vzfKqmG8zLbXuM=s64",
      "userId": "08166252903256794495"
     },
     "user_tz": 180
    },
    "id": "9zc5rWn_WvBc"
   },
   "outputs": [],
   "source": [
    "bow, words = [], word_tokenize(f5)\n",
    "\n",
    "for word in words:\n",
    "  bow.append(words.count(word))\n",
    "\n",
    "word_dict = cv.vocabulary_\n",
    "pickle.dump(word_dict, open('bow.pkl', 'wb'))\n",
    "\n",
    "inp = []\n",
    "for i in word_dict:\n",
    "  inp.append(f5.count(i[0]))\n",
    "\n",
    "y_prep = bnb.predict(np.array(inp).reshape(1,1000))"
   ]
  },
  {
   "cell_type": "markdown",
   "id": "DWd0A2GeYy_V",
   "metadata": {
    "id": "DWd0A2GeYy_V"
   },
   "source": [
    "# Resultado "
   ]
  },
  {
   "cell_type": "code",
   "execution_count": 21,
   "id": "rYaqulE0YFBd",
   "metadata": {
    "colab": {
     "base_uri": "https://localhost:8080/"
    },
    "executionInfo": {
     "elapsed": 4,
     "status": "ok",
     "timestamp": 1643553040873,
     "user": {
      "displayName": "Cyro Corrêa",
      "photoUrl": "https://lh3.googleusercontent.com/a-/AOh14GiIDJSdtN0Lzp8t9TrMNbB1RXTC0vzfKqmG8zLbXuM=s64",
      "userId": "08166252903256794495"
     },
     "user_tz": 180
    },
    "id": "rYaqulE0YFBd",
    "outputId": "0665b346-53a0-4562-be80-8cc04747fe96"
   },
   "outputs": [
    {
     "data": {
      "text/plain": [
       "array(['negative'], dtype='<U8')"
      ]
     },
     "execution_count": 21,
     "metadata": {},
     "output_type": "execute_result"
    }
   ],
   "source": [
    "y_prep"
   ]
  },
  {
   "cell_type": "code",
   "execution_count": null,
   "id": "AWKpEaykY6wh",
   "metadata": {
    "id": "AWKpEaykY6wh"
   },
   "outputs": [],
   "source": []
  }
 ],
 "metadata": {
  "colab": {
   "collapsed_sections": [],
   "name": "AnaliseDeSentimentos.ipynb",
   "provenance": []
  },
  "kernelspec": {
   "display_name": "Python 3",
   "language": "python",
   "name": "python3"
  },
  "language_info": {
   "codemirror_mode": {
    "name": "ipython",
    "version": 3
   },
   "file_extension": ".py",
   "mimetype": "text/x-python",
   "name": "python",
   "nbconvert_exporter": "python",
   "pygments_lexer": "ipython3",
   "version": "3.8.8"
  }
 },
 "nbformat": 4,
 "nbformat_minor": 5
}
